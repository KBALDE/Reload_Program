{
 "cells": [
  {
   "cell_type": "markdown",
   "id": "087747f4",
   "metadata": {},
   "source": [
    "# Coding Interview Preparation\n",
    "\n",
    "We are going to follow a Best Practice course from RealPython site.\n",
    "\n",
    "## Range vs Enumerate\n",
    "\n",
    "In this lesson, you’ll learn how to use range() and enumerate() to solve the classic interview question known as Fizz Buzz.\n",
    "\n",
    "**range()** is a built-in function used to iterate through a sequence of numbers. Some common use cases would be to iterate from the numbers 0 to 10:"
   ]
  },
  {
   "cell_type": "code",
   "execution_count": 2,
   "id": "93ca750b",
   "metadata": {},
   "outputs": [
    {
     "data": {
      "text/plain": [
       "[0, 1, 2, 3, 4, 5, 6, 7, 8, 9]"
      ]
     },
     "execution_count": 2,
     "metadata": {},
     "output_type": "execute_result"
    }
   ],
   "source": [
    "# create a list using range\n",
    "list(range(10))"
   ]
  },
  {
   "cell_type": "markdown",
   "id": "9f1c2c33",
   "metadata": {},
   "source": [
    "**enumerate()** is a built-in function to iterate through a sequence and keep track of both the index and the number. You can pass in an optional start parameter to indicate which number the index should start at:"
   ]
  },
  {
   "cell_type": "code",
   "execution_count": 4,
   "id": "1b12a170",
   "metadata": {},
   "outputs": [
    {
     "data": {
      "text/plain": [
       "[(0, 1), (1, 2), (2, 3)]"
      ]
     },
     "execution_count": 4,
     "metadata": {},
     "output_type": "execute_result"
    }
   ],
   "source": [
    "list(enumerate([1,2, 3]))"
   ]
  },
  {
   "cell_type": "code",
   "execution_count": 5,
   "id": "6a6a8777",
   "metadata": {},
   "outputs": [
    {
     "data": {
      "text/plain": [
       "[(10, 1), (11, 2), (12, 3)]"
      ]
     },
     "execution_count": 5,
     "metadata": {},
     "output_type": "execute_result"
    }
   ],
   "source": [
    "list(enumerate([1,2, 3], start=10))"
   ]
  },
  {
   "cell_type": "markdown",
   "id": "49971e56",
   "metadata": {},
   "source": [
    "Given a list of integers:\n",
    "- replace all integer div by 3 with \"fizz\"\n",
    "- repalce all integers div by 5 with \"buzz\"\n",
    "- replace all integer div by 3 and 5 with \"fizz_buzz\"\n"
   ]
  },
  {
   "cell_type": "code",
   "execution_count": 6,
   "id": "ae0c2de3",
   "metadata": {},
   "outputs": [],
   "source": [
    "numbers=[45, 22, 14,65, 97, 72]\n",
    "for i, num in enumerate(numbers):\n",
    "    if num % 3 == 0:\n",
    "        numbers[i] = \"fizz\"\n",
    "    if num % 5 == 0:\n",
    "        numbers[i] = \"buzz\"\n",
    "    if num % 5 == 0 and num % 3 == 0:\n",
    "        numbers[i] = \"fizzbuzz\""
   ]
  },
  {
   "cell_type": "code",
   "execution_count": 8,
   "id": "0ecf30f8",
   "metadata": {},
   "outputs": [
    {
     "data": {
      "text/plain": [
       "['fizzbuzz', 22, 14, 'buzz', 97, 'fizz']"
      ]
     },
     "execution_count": 8,
     "metadata": {},
     "output_type": "execute_result"
    }
   ],
   "source": [
    "numbers"
   ]
  },
  {
   "cell_type": "markdown",
   "id": "f1c38ef2",
   "metadata": {},
   "source": [
    "## Use List Comprehension instead of map() and filter()\n",
    "He may have been wrong about it being uncontroversial, but Guido had good reasons for wanting to remove map() and filter() from Python. \n",
    "\n",
    "One reason is that Python supports list comprehensions, which are often easier to read and support the same functionality as map() and filter().\n",
    "\n",
    "Let’s first take a look at how we’d structure a call to map() and the equivalent list comprehension:"
   ]
  },
  {
   "cell_type": "code",
   "execution_count": 10,
   "id": "0b738bd8",
   "metadata": {},
   "outputs": [
    {
     "name": "stdout",
     "output_type": "stream",
     "text": [
      "[16, 4, 1, 36, 81, 49]\n"
     ]
    },
    {
     "data": {
      "text/plain": [
       "[16, 4, 1, 36, 81, 49]"
      ]
     },
     "execution_count": 10,
     "metadata": {},
     "output_type": "execute_result"
    }
   ],
   "source": [
    "nbers=[4, 2, 1, 6, 9, 7]\n",
    "\n",
    "def sq(x):\n",
    "    return x*x\n",
    "\n",
    "print(list(map(sq, nbers)))\n",
    "\n",
    "[sq(x) for x in nbers]"
   ]
  },
  {
   "cell_type": "markdown",
   "id": "91178b5b",
   "metadata": {},
   "source": [
    "Both approaches, using map() and the list comprehension, return the same values, but the list comprehension is easier to read and understand.\n",
    "\n",
    "Now we can do the same thing for the filter() and its equivalent list comprehension:"
   ]
  },
  {
   "cell_type": "code",
   "execution_count": 14,
   "id": "0287d223",
   "metadata": {},
   "outputs": [
    {
     "data": {
      "text/plain": [
       "[1, 9, 7]"
      ]
     },
     "execution_count": 14,
     "metadata": {},
     "output_type": "execute_result"
    }
   ],
   "source": [
    "def is_odd(x):\n",
    "    return bool(x%2)\n",
    "\n",
    "list(filter(is_odd, nbers))\n",
    "[x for x in nbers if is_odd(x)]"
   ]
  },
  {
   "cell_type": "markdown",
   "id": "6085518a",
   "metadata": {},
   "source": [
    "## Debug With breakpoint() Instead of print()\n",
    "You may have debugged a small problem by adding print() to your code and seeing what was printed out. This approach works well at first but quickly becomes cumbersome. Plus, in a coding interview setting, you hardly want print() calls peppered throughout your code.\n",
    "\n",
    "If you’re using Python 3.7, you don’t need to import anything and can just call breakpoint() at the location in your code where you’d like to drop into the debugger:"
   ]
  },
  {
   "cell_type": "code",
   "execution_count": null,
   "id": "fd984377",
   "metadata": {},
   "outputs": [],
   "source": [
    "# Some complicated code with bugs\n",
    "\n",
    "breakpoint()"
   ]
  },
  {
   "cell_type": "markdown",
   "id": "5ed42ce5",
   "metadata": {},
   "source": [
    "Calling breakpoint() will put you into [pdb](https://realpython.com/python-debugging-pdb/), which is the default Python debugger. On Python 3.6 and older, you can do the same by importing pdb explicitly:"
   ]
  },
  {
   "cell_type": "code",
   "execution_count": null,
   "id": "44ad8120",
   "metadata": {},
   "outputs": [],
   "source": [
    "import pdb; pdb.set_trace()\n"
   ]
  },
  {
   "cell_type": "markdown",
   "id": "7e373023",
   "metadata": {},
   "source": [
    "## Format strings With f-Strings\n",
    "Python has a lot of different ways to handle string formatting, and it can be tricky to know what to use. In fact, we tackle formatting in depth in two separate articles: one about [string formatting in general](https://realpython.com/python-string-formatting/) and one [specifically focused on f-strings](https://realpython.com/python-f-strings/). In a coding interview, where you’re (hopefully) using Python 3.6+, the suggested formatting approach is Python’s **f-strings**.\n",
    "\n",
    "\n",
    "f-strings support use of the string formatting mini-language, as well as powerful string interpolation. These features allow you to add variables or even valid Python expressions and have them evaluated at runtime before being added to the string:"
   ]
  },
  {
   "cell_type": "code",
   "execution_count": 15,
   "id": "f07fb061",
   "metadata": {},
   "outputs": [
    {
     "data": {
      "text/plain": [
       "\"My name is Maria and I'm 3.10000 decades old.\""
      ]
     },
     "execution_count": 15,
     "metadata": {},
     "output_type": "execute_result"
    }
   ],
   "source": [
    "def get_name_and_decades(name, age):\n",
    "    return f\"My name is {name} and I'm {age / 10:.5f} decades old.\"\n",
    "\n",
    "get_name_and_decades(\"Maria\", 31)"
   ]
  },
  {
   "cell_type": "markdown",
   "id": "5f39d192",
   "metadata": {},
   "source": [
    "## Sort Complex Lists With sorted()\n",
    "Plenty of coding interview questions require some kind of sorting, and there are multiple valid ways you can sort items. Unless the interviewer wants you to implement your own sorting algorithm, it’s usually best to use **sorted()**.\n",
    "\n",
    "You’ve probably seen the most simple uses of sorting, such as sorting lists of numbers or strings in ascending or descending order:"
   ]
  },
  {
   "cell_type": "code",
   "execution_count": 16,
   "id": "c81ad2a4",
   "metadata": {},
   "outputs": [
    {
     "data": {
      "text/plain": [
       "[1, 2, 3, 4, 5, 6, 7]"
      ]
     },
     "execution_count": 16,
     "metadata": {},
     "output_type": "execute_result"
    }
   ],
   "source": [
    "sorted([6,5,3,7,2,4,1])"
   ]
  },
  {
   "cell_type": "code",
   "execution_count": 17,
   "id": "fca06fd7",
   "metadata": {},
   "outputs": [
    {
     "data": {
      "text/plain": [
       "['rhino', 'dog', 'cheetah', 'cat', 'bear']"
      ]
     },
     "execution_count": 17,
     "metadata": {},
     "output_type": "execute_result"
    }
   ],
   "source": [
    "sorted(['cat', 'dog', 'cheetah', 'rhino', 'bear'], reverse=True)"
   ]
  },
  {
   "cell_type": "markdown",
   "id": "2baac3c1",
   "metadata": {},
   "source": [
    "By default, sorted() has sorted the input in ascending order, and the reverse keyword argument causes it to sort in descending order.\n",
    "\n",
    "It’s worth knowing about the optional keyword argument key that lets you specify a function that will be called on every element prior to sorting. Adding a function allows custom sorting rules, which are especially helpful if you want to sort more complex data types:"
   ]
  },
  {
   "cell_type": "code",
   "execution_count": 19,
   "id": "bdb7163e",
   "metadata": {},
   "outputs": [
    {
     "data": {
      "text/plain": [
       "[{'type': 'elephant', 'name': 'Devon', 'age': 3},\n",
       " {'type': 'puma', 'name': 'Moe', 'age': 5},\n",
       " {'type': 'penguin', 'name': 'Stephanie', 'age': 8}]"
      ]
     },
     "execution_count": 19,
     "metadata": {},
     "output_type": "execute_result"
    }
   ],
   "source": [
    "animals = [\n",
    "    {'type': 'penguin', 'name': 'Stephanie', 'age': 8},\n",
    "    {'type': 'elephant', 'name': 'Devon', 'age': 3},\n",
    "    {'type': 'puma', 'name': 'Moe', 'age': 5},\n",
    "]\n",
    "\n",
    "sorted(animals, key=lambda animal: animal['age'])"
   ]
  },
  {
   "cell_type": "markdown",
   "id": "02ce1fcb",
   "metadata": {},
   "source": [
    "By passing in a lambda function that returns each element’s age, you can easily sort a list of dictionaries by a single value of each of those dictionaries. In this case, the dictionary is now sorted in ascending order by age"
   ]
  },
  {
   "cell_type": "markdown",
   "id": "0dfc777c",
   "metadata": {},
   "source": [
    "## Store Unique Values With Sets\n",
    "You’ll often need to remove duplicate elements from an existing dataset. New developers will sometimes do so with lists when they should be using sets, which enforce the uniqueness of all elements.\n",
    "\n",
    "Pretend you have a function named get_random_word(). It will always return a random selection from a small set of words:"
   ]
  },
  {
   "cell_type": "code",
   "execution_count": null,
   "id": "1e8323f7",
   "metadata": {},
   "outputs": [],
   "source": [
    "import random\n",
    "all_words = \"all the words in the world\".split()\n",
    "\n",
    "def get_random_word():\n",
    "    return random.choice(all_words)"
   ]
  },
  {
   "cell_type": "markdown",
   "id": "1a55a6dd",
   "metadata": {},
   "source": [
    "You’re supposed to call get_random_word() repeatedly to get 1000 random words and then return a data structure containing every unique word. Here are two common, suboptimal approaches and one good approach."
   ]
  },
  {
   "cell_type": "code",
   "execution_count": null,
   "id": "e1dc352a",
   "metadata": {},
   "outputs": [],
   "source": [
    "def get_unique_words():\n",
    "    words = set()\n",
    "    for _ in range(1000):\n",
    "        words.add(get_random_word())\n",
    "    return words\n",
    "\n",
    "get_unique_words()\n",
    "#{'world', 'all', 'the', 'words'}"
   ]
  },
  {
   "cell_type": "markdown",
   "id": "42817d9a",
   "metadata": {},
   "source": [
    "This may not look much different than the other approaches except for making use of a set from the beginning. If you consider what’s happening within .add(), it even sounds like the second approach: get the word, check if it’s already in the set, and if not, add it to the data structure."
   ]
  },
  {
   "cell_type": "markdown",
   "id": "a966ccb2",
   "metadata": {},
   "source": [
    "## Save Memory With Generators\n",
    "List comprehensions are convenient tools but can sometimes lead to unnecessary memory usage.\n",
    "\n",
    "Imagine you’ve been asked to find the sum of the first 1000 perfect squares, starting with 1. You know about list comprehensions, so you quickly code up a working solution:"
   ]
  },
  {
   "cell_type": "code",
   "execution_count": 20,
   "id": "0e42f72c",
   "metadata": {},
   "outputs": [
    {
     "data": {
      "text/plain": [
       "333833500"
      ]
     },
     "execution_count": 20,
     "metadata": {},
     "output_type": "execute_result"
    }
   ],
   "source": [
    " sum([i * i for i in range(1, 1001)])"
   ]
  },
  {
   "cell_type": "markdown",
   "id": "571fbfd8",
   "metadata": {},
   "source": [
    "Swapping out the brackets changes your list comprehension into a generator expression. Generator expressions are perfect for when you know you want to retrieve data from a sequence, but you don’t need to access all of it at the same time."
   ]
  },
  {
   "cell_type": "code",
   "execution_count": 21,
   "id": "8421b30e",
   "metadata": {},
   "outputs": [
    {
     "data": {
      "text/plain": [
       "333833500"
      ]
     },
     "execution_count": 21,
     "metadata": {},
     "output_type": "execute_result"
    }
   ],
   "source": [
    "sum((i * i for i in range(1, 1001)))"
   ]
  },
  {
   "cell_type": "markdown",
   "id": "4bfaef18",
   "metadata": {},
   "source": [
    "Instead of creating a list, the generator expression returns a generator object. That object knows where it is in the current state (for example, i = 49) and only calculates the next value when it’s asked for.\n",
    "\n",
    "So when sum iterates over the generator object by calling .__next__() repeatedly, the generator checks what i equals, calculates i * i, increments i internally, and returns the proper value to sum. The design allows generators to be used on massive sequences of data, because only one element exists in memory at a time."
   ]
  },
  {
   "cell_type": "markdown",
   "id": "25d7d710",
   "metadata": {},
   "source": [
    "## Define Default Values in Dictionaries With .get() and .setdefault()\n",
    "One of the most common programming tasks involves adding, modifying, or retrieving an item that may or may not be in a dictionary. Python dictionaries have elegant functionality to make these tasks clean and easy, but developers often check explicitly for values when it isn’t necessary.\n",
    "\n",
    "Imagine you have a dictionary named cowboy, and you want to get that cowboy’s name. One approach is to explicitly check for the key with a conditional:"
   ]
  },
  {
   "cell_type": "code",
   "execution_count": 23,
   "id": "5bbfae47",
   "metadata": {},
   "outputs": [
    {
     "data": {
      "text/plain": [
       "'The Man with No Name'"
      ]
     },
     "execution_count": 23,
     "metadata": {},
     "output_type": "execute_result"
    }
   ],
   "source": [
    "cowboy = {'age': 32, 'horse': 'mustang', 'hat_size': 'large'}\n",
    "if 'name' in cowboy:\n",
    "    name = cowboy['name']\n",
    "else:\n",
    "    name = 'The Man with No Name'\n",
    "name"
   ]
  },
  {
   "cell_type": "markdown",
   "id": "5994d0f3",
   "metadata": {},
   "source": [
    "This approach first checks if the name key exists in the dictionary, and if so, it returns the corresponding value. Otherwise, it returns a default value.\n",
    "\n",
    "While explicitly checking for keys does work, it can easily be replaced with one line if you use .get():"
   ]
  },
  {
   "cell_type": "code",
   "execution_count": 24,
   "id": "68354e11",
   "metadata": {},
   "outputs": [
    {
     "data": {
      "text/plain": [
       "'The Man with No Name'"
      ]
     },
     "execution_count": 24,
     "metadata": {},
     "output_type": "execute_result"
    }
   ],
   "source": [
    "name = cowboy.get('name', 'The Man with No Name')\n",
    "name"
   ]
  },
  {
   "cell_type": "markdown",
   "id": "84c04777",
   "metadata": {},
   "source": [
    "get() performs the same operations that were performed in the first approach, but now they’re handled automatically. If the key exists, then the proper value will be returned. Otherwise, the default value will get returned.\n",
    "\n",
    "But what if you want to update the dictionary with a default value while still accessing the name key? .get() doesn’t really help you here, so you’re left with explicitly checking for the value again:"
   ]
  },
  {
   "cell_type": "code",
   "execution_count": 25,
   "id": "665a1027",
   "metadata": {},
   "outputs": [],
   "source": [
    "if 'name' not in cowboy:\n",
    "    cowboy['name'] = 'The Man with No Name'\n",
    "\n",
    "name = cowboy['name']"
   ]
  },
  {
   "cell_type": "code",
   "execution_count": 26,
   "id": "f85ff34b",
   "metadata": {},
   "outputs": [
    {
     "data": {
      "text/plain": [
       "'The Man with No Name'"
      ]
     },
     "execution_count": 26,
     "metadata": {},
     "output_type": "execute_result"
    }
   ],
   "source": [
    "name"
   ]
  },
  {
   "cell_type": "markdown",
   "id": "0a2077d3",
   "metadata": {},
   "source": [
    "Checking for the value and setting a default is a valid approach and is easy to read, but again Python offers a more elegant method with .setdefault():"
   ]
  },
  {
   "cell_type": "code",
   "execution_count": 27,
   "id": "d754571b",
   "metadata": {},
   "outputs": [
    {
     "data": {
      "text/plain": [
       "'The Man with No Name'"
      ]
     },
     "execution_count": 27,
     "metadata": {},
     "output_type": "execute_result"
    }
   ],
   "source": [
    "name = cowboy.setdefault('name', 'The Man with No Name')\n",
    "name"
   ]
  },
  {
   "cell_type": "markdown",
   "id": "cd8f70d6",
   "metadata": {},
   "source": [
    ".setdefault() accomplishes exactly the same thing as the snippet above. It checks if name exists in cowboy, and if so it returns that value. Otherwise, it sets cowboy['name'] to The Man with No Name and returns the new value."
   ]
  },
  {
   "cell_type": "markdown",
   "id": "197af64d",
   "metadata": {},
   "source": [
    "## Handle Missing Dictionary Keys With collections.defaultdict()\n",
    "\n",
    "**.get() and .setdefault()** work well when you’re setting a default for a single key, but it’s common to want a default value for all possible unset keys, especially when programming in a coding interview context.\n",
    "\n",
    "Pretend you have a group of students, and you need to keep track of their grades on homework assignments. The input value is a list of tuples with the format (student_name, grade), but you want to easily look up all the grades for a single student without iterating over the list.\n",
    "\n",
    "One way to store the grade data uses a dictionary that maps student names to lists of grades:"
   ]
  },
  {
   "cell_type": "code",
   "execution_count": 28,
   "id": "62bd73db",
   "metadata": {},
   "outputs": [
    {
     "data": {
      "text/plain": [
       "{'elliot': [91, 88], 'neelam': [98], 'bianca': [81]}"
      ]
     },
     "execution_count": 28,
     "metadata": {},
     "output_type": "execute_result"
    }
   ],
   "source": [
    "student_grades = {}\n",
    "\n",
    "grades = [\n",
    "    ('elliot', 91),\n",
    "    ('neelam', 98),\n",
    "    ('bianca', 81),\n",
    "    ('elliot', 88),\n",
    "]\n",
    "\n",
    "\n",
    "for name, grade in grades:\n",
    "    if name not in student_grades:\n",
    "        student_grades[name] = []\n",
    "    student_grades[name].append(grade)\n",
    "    \n",
    "    \n",
    "student_grades"
   ]
  },
  {
   "cell_type": "markdown",
   "id": "9ac80c73",
   "metadata": {},
   "source": [
    "In this approach, you iterate over the students and check if their names are already properties in the dictionary. If not, you add them to the dictionary with an empty list as the default value. You then append their actual grades to that student’s list of grades.\n",
    "\n",
    "But there’s an even cleaner approach that uses a defaultdict, which extends standard dict functionality to allow you to set a default value that will be operated upon if the key doesn’t exist:"
   ]
  },
  {
   "cell_type": "code",
   "execution_count": 29,
   "id": "0ed3e9e2",
   "metadata": {},
   "outputs": [],
   "source": [
    "from collections import defaultdict\n",
    "\n",
    "student_grades = defaultdict(list)\n",
    "\n",
    "for name, grade in grades:\n",
    "    student_grades[name].append(grade)\n",
    "    "
   ]
  },
  {
   "cell_type": "code",
   "execution_count": 30,
   "id": "edd6b822",
   "metadata": {},
   "outputs": [
    {
     "data": {
      "text/plain": [
       "defaultdict(list, {'elliot': [91, 88], 'neelam': [98], 'bianca': [81]})"
      ]
     },
     "execution_count": 30,
     "metadata": {},
     "output_type": "execute_result"
    }
   ],
   "source": [
    "student_grades"
   ]
  },
  {
   "cell_type": "markdown",
   "id": "b7f4fb4a",
   "metadata": {},
   "source": [
    "In this case, you’re creating a defaultdict that uses the list() constructor with no arguments as a default factory method. list() with no arguments returns an empty list, so defaultdict calls list() if the name doesn’t exist and then allows the grade to be appended. If you want to get fancy, you could also use a lambda function as your factory value to return an arbitrary constant."
   ]
  },
  {
   "cell_type": "markdown",
   "id": "3bcd1104",
   "metadata": {},
   "source": [
    "## Count Hashable Objects With collections.Counter\n",
    "You have a long string of words with no punctuation or capital letters and you want to count how many times each word appears.\n",
    "\n",
    "You could use a dictionary or defaultdict and increment the counts, but collections.Counter provides a cleaner and more convenient way to do exactly that. Counter is a subclass of dict that uses 0 as the default value for any missing element and makes it easier to count occurrences of objects:"
   ]
  },
  {
   "cell_type": "code",
   "execution_count": 31,
   "id": "b9b52e1e",
   "metadata": {},
   "outputs": [
    {
     "data": {
      "text/plain": [
       "Counter({'if': 2, 'there': 4, 'was': 4, 'but': 1, 'not': 2})"
      ]
     },
     "execution_count": 31,
     "metadata": {},
     "output_type": "execute_result"
    }
   ],
   "source": [
    "from collections import Counter\n",
    "words = \"if there was there was but if \\\n",
    "there was not there was not\".split()\n",
    "\n",
    "counts = Counter(words)\n",
    "\n",
    "counts"
   ]
  },
  {
   "cell_type": "markdown",
   "id": "be9af3ba",
   "metadata": {},
   "source": [
    "When you pass in the list of words to Counter, it stores each word along with a count of how many times that word occurred in the list.\n",
    "\n",
    "Are you curious what the two most common words were? Just use .most_common():"
   ]
  },
  {
   "cell_type": "code",
   "execution_count": 32,
   "id": "14349263",
   "metadata": {},
   "outputs": [
    {
     "data": {
      "text/plain": [
       "[('there', 4), ('was', 4)]"
      ]
     },
     "execution_count": 32,
     "metadata": {},
     "output_type": "execute_result"
    }
   ],
   "source": [
    "counts.most_common(2)"
   ]
  },
  {
   "cell_type": "markdown",
   "id": "41f9a095",
   "metadata": {},
   "source": [
    "## Access Common String Groups With string Constants\n",
    "It’s trivia time! Is 'A' > 'a' true or false?\n",
    "\n",
    "It’s false, because the ASCII code for A is 65, but a is 97, and 65 is not greater than 97.\n",
    "\n",
    "Why does the answer matter? Because if you want to check if a character is part of the English alphabet, one popular way is to see if it’s between A and z (65 and 122 on the ASCII chart).\n",
    "\n",
    "\n",
    "Checking the ASCII code works but is clumsy and easy to mess up in coding interviews, especially if you can’t remember whether lowercase or uppercase ASCII characters come first. It’s much easier to use the constants defined as part of the [string module](https://docs.python.org/3/library/string.html).\n",
    "\n",
    "You can see one in use in is_upper(), which returns whether all characters in a string are uppercase letters:"
   ]
  },
  {
   "cell_type": "code",
   "execution_count": 33,
   "id": "b0ad4001",
   "metadata": {},
   "outputs": [
    {
     "name": "stdout",
     "output_type": "stream",
     "text": [
      "False\n",
      "True\n"
     ]
    }
   ],
   "source": [
    "import string\n",
    "\n",
    "def is_upper(word):\n",
    "    for letter in word:\n",
    "        if letter not in string.ascii_uppercase:\n",
    "            return False\n",
    "    return True\n",
    "\n",
    "print(is_upper('Thanks Geir'))\n",
    "#False\n",
    "print(is_upper('LOL'))\n",
    "#True"
   ]
  },
  {
   "cell_type": "markdown",
   "id": "f6be13d7",
   "metadata": {},
   "source": [
    "is_upper() iterates over the letters in word, and checks if the letters are part of string.ascii_uppercase. If you print out string.ascii_uppercase you’ll see that it’s just a lowly string. The value is set to the literal 'ABCDEFGHIJKLMNOPQRSTUVWXYZ'.\n",
    "\n",
    "All string constants are just strings of frequently referenced string values. They include the following:\n",
    "\n",
    "- string.ascii_letters\n",
    "- string.ascii_uppercase\n",
    "- string.ascii_lowercase\n",
    "- string.digits\n",
    "- string.hexdigits\n",
    "- string.octdigits\n",
    "- string.punctuation\n",
    "- string.printable\n",
    "- string.whitespace\n",
    "\n",
    "\n",
    "## Generate Permutations and Combinations With itertools\n",
    "Interviewers love to give real life scenarios to make coding interviews seem less intimidating, so here’s a contrived example: you go to an amusement park and decide to figure out every possible pair of friends that could sit together on a roller coaster.\n",
    "\n",
    "Unless generating these pairs is the primary purpose of the interview question, it’s likely that generating all the possible pairs is just a tedious step on the way towards a working algorithm. You could calculate them yourself with nested for-loops, or you could use the powerful **[itertools library](https://realpython.com/python-itertools/)**.\n",
    "\n",
    "itertools has multiple tools for **generating iterable sequences** of input data, but right now we’ll just focus on two common functions: **itertools.permutations() and itertools.combinations()**.\n",
    "\n",
    "itertools.permutations() builds a list of all permutations, meaning it’s a list of every possible grouping of input values with a length matching the count parameter. The r keyword argument lets us specify how many values go in each grouping:"
   ]
  },
  {
   "cell_type": "code",
   "execution_count": 34,
   "id": "8a641811",
   "metadata": {},
   "outputs": [
    {
     "data": {
      "text/plain": [
       "[('Monique', 'Ashish'),\n",
       " ('Monique', 'Devon'),\n",
       " ('Monique', 'Bernie'),\n",
       " ('Ashish', 'Monique'),\n",
       " ('Ashish', 'Devon'),\n",
       " ('Ashish', 'Bernie'),\n",
       " ('Devon', 'Monique'),\n",
       " ('Devon', 'Ashish'),\n",
       " ('Devon', 'Bernie'),\n",
       " ('Bernie', 'Monique'),\n",
       " ('Bernie', 'Ashish'),\n",
       " ('Bernie', 'Devon')]"
      ]
     },
     "execution_count": 34,
     "metadata": {},
     "output_type": "execute_result"
    }
   ],
   "source": [
    "import itertools\n",
    "friends = ['Monique', 'Ashish', 'Devon', 'Bernie']\n",
    "list(itertools.permutations(friends, r=2))"
   ]
  },
  {
   "cell_type": "markdown",
   "id": "ee01e577",
   "metadata": {},
   "source": [
    "With permutations, the order of the elements matters, so ('sam', 'devon') represents a different pairing than ('devon', 'sam'), meaning that they would both be included in the list.\n",
    "\n",
    "itertools.combinations() builds combinations. These are also the possible groupings of the input values, but now the order of the values doesn’t matter. Because ('sam', 'devon') and ('devon', 'sam') represent the same pair, only one of them would be included in the output list:"
   ]
  },
  {
   "cell_type": "code",
   "execution_count": 35,
   "id": "6cc614a2",
   "metadata": {},
   "outputs": [
    {
     "data": {
      "text/plain": [
       "[('Monique', 'Ashish'),\n",
       " ('Monique', 'Devon'),\n",
       " ('Monique', 'Bernie'),\n",
       " ('Ashish', 'Devon'),\n",
       " ('Ashish', 'Bernie'),\n",
       " ('Devon', 'Bernie')]"
      ]
     },
     "execution_count": 35,
     "metadata": {},
     "output_type": "execute_result"
    }
   ],
   "source": [
    "list(itertools.combinations(friends, r=2))"
   ]
  },
  {
   "cell_type": "markdown",
   "id": "bd549daf",
   "metadata": {},
   "source": [
    "Since the order of the values does not matter with combinations, there are fewer combinations than permutations for the same input list. Again, because we set r to 2, each grouping has two names in it.\n",
    "\n",
    ".combinations() and .permutations() are just small examples of a powerful library, but even these two functions can be quite useful when you’re trying to solve an algorithm problem quickly."
   ]
  },
  {
   "cell_type": "code",
   "execution_count": null,
   "id": "e7c10270",
   "metadata": {},
   "outputs": [],
   "source": []
  },
  {
   "cell_type": "code",
   "execution_count": null,
   "id": "f874e386",
   "metadata": {},
   "outputs": [],
   "source": []
  }
 ],
 "metadata": {
  "kernelspec": {
   "display_name": "Python 3 (ipykernel)",
   "language": "python",
   "name": "python3"
  },
  "language_info": {
   "codemirror_mode": {
    "name": "ipython",
    "version": 3
   },
   "file_extension": ".py",
   "mimetype": "text/x-python",
   "name": "python",
   "nbconvert_exporter": "python",
   "pygments_lexer": "ipython3",
   "version": "3.8.8"
  }
 },
 "nbformat": 4,
 "nbformat_minor": 5
}
