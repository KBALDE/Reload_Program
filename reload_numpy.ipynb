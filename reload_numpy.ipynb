{
 "cells": [
  {
   "cell_type": "markdown",
   "id": "69609297",
   "metadata": {},
   "source": [
    "# From Python to Numpy\n",
    "\n",
    "[reference book](https://www.labri.fr/perso/nrougier/from-python-to-numpy/)\n",
    "\n",
    "https://numpy.org/doc/stable/user/absolute_beginners.html#broadcasting\n",
    "\n",
    "\n",
    "https://github.com/rougier/numpy-100/blob/master/100_Numpy_exercises_with_solutions.md\n",
    "\n",
    "https://github.com/rougier/numpy-100/blob/master/100_Numpy_exercises.ipynb\n",
    "\n",
    "\n",
    "NumPy (Numerical Python) is an open source Python library that’s used in almost every field of science and engineering. It’s the universal standard for working with numerical data in Python, and it’s at the core of the scientific Python and PyData ecosystems. NumPy users include everyone from beginning coders to experienced researchers doing state-of-the-art scientific and industrial research and development. The NumPy API is used extensively in Pandas, SciPy, Matplotlib, scikit-learn, scikit-image and most other data science and scientific Python packages."
   ]
  },
  {
   "cell_type": "code",
   "execution_count": 2,
   "id": "c7a1c0bf",
   "metadata": {},
   "outputs": [],
   "source": [
    "import numpy as np\n",
    "import scipy as sp\n",
    "import matplotlib.pyplot as plt"
   ]
  },
  {
   "cell_type": "code",
   "execution_count": 3,
   "id": "40ab896d",
   "metadata": {},
   "outputs": [],
   "source": [
    "def p(v):\n",
    "    return print(v)"
   ]
  },
  {
   "cell_type": "code",
   "execution_count": 3,
   "id": "a4ed1130",
   "metadata": {},
   "outputs": [],
   "source": [
    "np?"
   ]
  },
  {
   "cell_type": "markdown",
   "id": "62d85ade",
   "metadata": {},
   "source": [
    "### What’s the difference between a Python list and a NumPy array?\n",
    "NumPy gives you an enormous range of fast and efficient ways of creating arrays and manipulating numerical data inside them. While a Python list can contain different data types within a single list, all of the elements in a NumPy array should be homogeneous. "
   ]
  },
  {
   "cell_type": "code",
   "execution_count": 4,
   "id": "f2c9199b",
   "metadata": {},
   "outputs": [
    {
     "name": "stdout",
     "output_type": "stream",
     "text": [
      "[0 1 2 3 4 5]\n",
      "(6,)\n",
      "[[0 1 2 3 4 5]]\n",
      "(1, 6)\n"
     ]
    }
   ],
   "source": [
    "a= np.arange(6)\n",
    "p(a)\n",
    "p(a.shape)\n",
    "a2= a[np.newaxis, :]\n",
    "p(a2)\n",
    "p(a2.shape)"
   ]
  },
  {
   "cell_type": "markdown",
   "id": "fda62243",
   "metadata": {},
   "source": [
    "### What is an array?\n",
    "An array is a central data structure of the NumPy library. An array is a grid of values and it contains information about the raw data, how to locate an element, and how to interpret an element. It has a grid of elements that can be indexed in various ways. The elements are all of the same type, referred to as the array dtype.\n",
    "\n",
    "An array can be indexed by a tuple of nonnegative integers, by booleans, by another array, or by integers. The rank of the array is the number of dimensions. The shape of the array is a tuple of integers giving the size of the array along each dimension.\n",
    "\n",
    "One way we can initialize NumPy arrays is from Python lists, using nested lists for two- or higher-dimensional data."
   ]
  },
  {
   "cell_type": "code",
   "execution_count": 13,
   "id": "343324fa",
   "metadata": {},
   "outputs": [
    {
     "name": "stdout",
     "output_type": "stream",
     "text": [
      "[1 2 3 4 5 6]\n"
     ]
    }
   ],
   "source": [
    "a = np.array([1, 2, 3, 4, 5, 6])\n",
    "p(a)"
   ]
  },
  {
   "cell_type": "code",
   "execution_count": 15,
   "id": "6e5e874e",
   "metadata": {},
   "outputs": [
    {
     "name": "stdout",
     "output_type": "stream",
     "text": [
      "[[ 1  2  3  4]\n",
      " [ 5  6  7  8]\n",
      " [ 9 10 11 12]]\n"
     ]
    }
   ],
   "source": [
    "a = np.array([[1, 2, 3, 4], [5, 6, 7, 8], [9, 10, 11, 12]])\n",
    "p(a)"
   ]
  },
  {
   "cell_type": "code",
   "execution_count": 16,
   "id": "76ff2de5",
   "metadata": {},
   "outputs": [
    {
     "name": "stdout",
     "output_type": "stream",
     "text": [
      "[1 2 3 4]\n"
     ]
    }
   ],
   "source": [
    "p(a[0])"
   ]
  },
  {
   "cell_type": "markdown",
   "id": "0880e47c",
   "metadata": {},
   "source": [
    "### More information about arrays\n",
    "*This section covers 1D array, 2D array, ndarray, vector, matrix\n",
    "\n",
    "You might occasionally hear an array referred to as a **“ndarray,”** which is shorthand for “N-dimensional array.” An N-dimensional array is simply an array with any number of dimensions. You might also hear 1-D, or one-dimensional array, 2-D, or two-dimensional array, and so on. \n",
    "\n",
    "The NumPy ndarray class is used to represent both **matrices and vectors**. `A vector is an array with a single dimension` (there’s no difference between row and column vectors), while `a matrix refers to an array with two dimensions`. For 3-D or higher dimensional arrays, the term tensor is also commonly used."
   ]
  },
  {
   "cell_type": "markdown",
   "id": "83438a34",
   "metadata": {},
   "source": [
    "####  How to create a basic array?\n",
    "This section covers np.array(), np.zeros(), np.ones(), np.empty(), np.arange(), np.linspace(), dtype\n",
    "\n",
    "To create a NumPy array, you can use the function np.array()."
   ]
  },
  {
   "cell_type": "code",
   "execution_count": 6,
   "id": "eed579e4",
   "metadata": {},
   "outputs": [
    {
     "name": "stdout",
     "output_type": "stream",
     "text": [
      "[1 2 3]\n",
      "[[1]\n",
      " [2]\n",
      " [3]]\n",
      "(3,)\n",
      "(3, 1)\n"
     ]
    }
   ],
   "source": [
    "a = np.array([1, 2, 3])\n",
    "p(a)\n",
    "p(a[:, np.newaxis])\n",
    "p(a.shape)\n",
    "p(a[:, np.newaxis].shape)"
   ]
  },
  {
   "cell_type": "code",
   "execution_count": 22,
   "id": "1ee78114",
   "metadata": {},
   "outputs": [
    {
     "name": "stdout",
     "output_type": "stream",
     "text": [
      "[0. 0.]\n",
      "[1. 1.]\n"
     ]
    }
   ],
   "source": [
    "#You can easily create an array filled with 0’s:\n",
    "p(np.zeros(2))\n",
    "# You can easily create an array filled with 1’s:\n",
    "p(np.ones(2))"
   ]
  },
  {
   "cell_type": "markdown",
   "id": "8d4463e2",
   "metadata": {},
   "source": [
    "Or even an empty array! The function empty creates an array whose initial content is random and depends on the state of the memory. The reason to use empty over zeros (or something similar) is speed - just make sure to fill every element afterwards!"
   ]
  },
  {
   "cell_type": "code",
   "execution_count": 26,
   "id": "7c789f1f",
   "metadata": {},
   "outputs": [
    {
     "name": "stdout",
     "output_type": "stream",
     "text": [
      "[0.   0.25 0.5  0.75 1.  ]\n"
     ]
    }
   ],
   "source": [
    "p(np.empty(5))"
   ]
  },
  {
   "cell_type": "code",
   "execution_count": 27,
   "id": "b1e69867",
   "metadata": {},
   "outputs": [
    {
     "data": {
      "text/plain": [
       "array([0, 1, 2, 3])"
      ]
     },
     "execution_count": 27,
     "metadata": {},
     "output_type": "execute_result"
    }
   ],
   "source": [
    "#You can create an array with a range of elements:\n",
    "np.arange(4)"
   ]
  },
  {
   "cell_type": "markdown",
   "id": "0818eff0",
   "metadata": {},
   "source": [
    "And even an array that contains a range of evenly spaced intervals. To do this, you will specify the `first number, last number, and the step size`.\n",
    "\n"
   ]
  },
  {
   "cell_type": "code",
   "execution_count": 28,
   "id": "d0d38c9e",
   "metadata": {},
   "outputs": [
    {
     "data": {
      "text/plain": [
       "array([2, 4, 6, 8])"
      ]
     },
     "execution_count": 28,
     "metadata": {},
     "output_type": "execute_result"
    }
   ],
   "source": [
    "np.arange(2, 9, 2)"
   ]
  },
  {
   "cell_type": "markdown",
   "id": "3a226381",
   "metadata": {},
   "source": [
    "You can also use `np.linspace()` to create an array with values that are spaced linearly in a specified interval:"
   ]
  },
  {
   "cell_type": "code",
   "execution_count": 29,
   "id": "717a903c",
   "metadata": {},
   "outputs": [
    {
     "data": {
      "text/plain": [
       "array([ 0. ,  2.5,  5. ,  7.5, 10. ])"
      ]
     },
     "execution_count": 29,
     "metadata": {},
     "output_type": "execute_result"
    }
   ],
   "source": [
    "np.linspace(0, 10, num=5)"
   ]
  },
  {
   "cell_type": "markdown",
   "id": "06edcdf6",
   "metadata": {},
   "source": [
    "#### Specifying your data type\n",
    "\n",
    "While the default data type is floating point (np.float64), you can explicitly specify which data type you want using the dtype keyword."
   ]
  },
  {
   "cell_type": "code",
   "execution_count": 8,
   "id": "595eadd3",
   "metadata": {},
   "outputs": [
    {
     "name": "stdout",
     "output_type": "stream",
     "text": [
      "[1 1]\n"
     ]
    },
    {
     "data": {
      "text/plain": [
       "dtype('int64')"
      ]
     },
     "execution_count": 8,
     "metadata": {},
     "output_type": "execute_result"
    }
   ],
   "source": [
    "x = np.ones(2, dtype=np.int64)\n",
    "p(x)\n",
    "x.dtype"
   ]
  },
  {
   "cell_type": "markdown",
   "id": "a9bb4519",
   "metadata": {},
   "source": [
    "### Adding, removing, and sorting elements\n",
    "This section covers np.sort(), np.concatenate()\n",
    "\n",
    "Sorting an element is simple with np.sort(). You can specify the axis, kind, and order when you call the function."
   ]
  },
  {
   "cell_type": "code",
   "execution_count": 31,
   "id": "730333f1",
   "metadata": {},
   "outputs": [
    {
     "data": {
      "text/plain": [
       "array([1, 2, 3, 4, 5, 6, 7, 8])"
      ]
     },
     "execution_count": 31,
     "metadata": {},
     "output_type": "execute_result"
    }
   ],
   "source": [
    "arr = np.array([2, 1, 5, 3, 7, 4, 6, 8])\n",
    "np.sort(arr)"
   ]
  },
  {
   "cell_type": "markdown",
   "id": "605e3879",
   "metadata": {},
   "source": [
    "In addition to sort, which returns a sorted copy of an array, you can use:\n",
    "\n",
    "- **argsort**, which is an indirect sort along a specified axis,\n",
    "\n",
    "- **lexsort**, which is an indirect stable sort on multiple keys,\n",
    "\n",
    "- **searchsorted**, which will find elements in a sorted array, and\n",
    "\n",
    "- **partition**, which is a partial sort."
   ]
  },
  {
   "cell_type": "code",
   "execution_count": 33,
   "id": "5c604219",
   "metadata": {},
   "outputs": [
    {
     "data": {
      "text/plain": [
       "array([1, 2, 3, 4, 5, 6, 7, 8])"
      ]
     },
     "execution_count": 33,
     "metadata": {},
     "output_type": "execute_result"
    }
   ],
   "source": [
    "a = np.array([1, 2, 3, 4])\n",
    "b = np.array([5, 6, 7, 8])\n",
    "np.concatenate((a, b))"
   ]
  },
  {
   "cell_type": "code",
   "execution_count": 36,
   "id": "49f905ef",
   "metadata": {},
   "outputs": [
    {
     "data": {
      "text/plain": [
       "array([[1, 2],\n",
       "       [3, 4],\n",
       "       [5, 6]])"
      ]
     },
     "execution_count": 36,
     "metadata": {},
     "output_type": "execute_result"
    }
   ],
   "source": [
    "# Or, if you start with these arrays:\n",
    "x = np.array([[1, 2], [3, 4]])\n",
    "y = np.array([[5, 6]])\n",
    "\n",
    "#You can concatenate them with:\n",
    "np.concatenate((x, y), axis=0)"
   ]
  },
  {
   "cell_type": "markdown",
   "id": "91abe9c7",
   "metadata": {},
   "source": [
    "In order to remove elements from an array, it’s simple to use indexing to select the elements that you want to keep."
   ]
  },
  {
   "cell_type": "markdown",
   "id": "be03560c",
   "metadata": {},
   "source": [
    "### How do you know the shape and size of an array?\n",
    "This section covers ndarray.ndim, ndarray.size, ndarray.shape\n",
    "\n",
    "- ndarray.ndim will tell you the number of axes, or dimensions, of the array.\n",
    "\n",
    "- ndarray.size will tell you the total number of elements of the array. This is the product of the elements of the array’s shape.\n",
    "\n",
    "- ndarray.shape will display a tuple of integers that indicate the number of elements stored along each dimension of the array. If, for example, you have a 2-D array with 2 rows and 3 columns, the shape of your array is (2, 3).\n",
    "\n",
    "\n"
   ]
  },
  {
   "cell_type": "code",
   "execution_count": 47,
   "id": "b138240f",
   "metadata": {},
   "outputs": [
    {
     "name": "stdout",
     "output_type": "stream",
     "text": [
      "1\n",
      "2\n"
     ]
    }
   ],
   "source": [
    "# To find the number of dimensions of the array, run:\n",
    "p(a.ndim)\n",
    "p(a[np.newaxis, :].ndim)\n",
    "#==> ndim ==> number of axis"
   ]
  },
  {
   "cell_type": "code",
   "execution_count": 49,
   "id": "c6cd47c9",
   "metadata": {},
   "outputs": [
    {
     "data": {
      "text/plain": [
       "4"
      ]
     },
     "execution_count": 49,
     "metadata": {},
     "output_type": "execute_result"
    }
   ],
   "source": [
    "#To find the total number of elements in the array, run:\n",
    "a.size\n",
    "b.size"
   ]
  },
  {
   "cell_type": "code",
   "execution_count": 52,
   "id": "d6f73b6b",
   "metadata": {},
   "outputs": [
    {
     "data": {
      "text/plain": [
       "array([[[0, 1, 2, 3],\n",
       "        [4, 5, 6, 7]],\n",
       "\n",
       "       [[0, 1, 2, 3],\n",
       "        [4, 5, 6, 7]],\n",
       "\n",
       "       [[0, 1, 2, 3],\n",
       "        [4, 5, 6, 7]]])"
      ]
     },
     "execution_count": 52,
     "metadata": {},
     "output_type": "execute_result"
    }
   ],
   "source": [
    "array_example = np.array([[[0, 1, 2, 3],\n",
    "                           [4, 5, 6, 7]],\n",
    "\n",
    "                          [[0, 1, 2, 3],\n",
    "                           [4, 5, 6, 7]],\n",
    "\n",
    "                          [[0 ,1 ,2, 3],\n",
    "                           [4, 5, 6, 7]]])\n",
    "array_example"
   ]
  },
  {
   "cell_type": "code",
   "execution_count": 51,
   "id": "d0376fc0",
   "metadata": {},
   "outputs": [
    {
     "data": {
      "text/plain": [
       "24"
      ]
     },
     "execution_count": 51,
     "metadata": {},
     "output_type": "execute_result"
    }
   ],
   "source": [
    "array_example.size"
   ]
  },
  {
   "cell_type": "code",
   "execution_count": 53,
   "id": "2a886867",
   "metadata": {},
   "outputs": [
    {
     "data": {
      "text/plain": [
       "(3, 2, 4)"
      ]
     },
     "execution_count": 53,
     "metadata": {},
     "output_type": "execute_result"
    }
   ],
   "source": [
    "# And to find the shape of your array, run:\n",
    "array_example.shape"
   ]
  },
  {
   "cell_type": "markdown",
   "id": "6c94caa9",
   "metadata": {},
   "source": [
    "### Can you reshape an array?\n",
    "`arr.reshape()`\n",
    "\n",
    "Using arr.reshape() will give a new shape to an array without changing the data. Just remember that when you use the reshape method, the array you want to produce needs to have the same number of elements as the original array. If you start with an array with 12 elements, you’ll need to make sure that your new array also has a total of 12 elements.\n",
    "\n"
   ]
  },
  {
   "cell_type": "code",
   "execution_count": 54,
   "id": "c6618b1e",
   "metadata": {},
   "outputs": [
    {
     "data": {
      "text/plain": [
       "array([[0, 1],\n",
       "       [2, 3],\n",
       "       [4, 5]])"
      ]
     },
     "execution_count": 54,
     "metadata": {},
     "output_type": "execute_result"
    }
   ],
   "source": [
    "a = np.arange(6)\n",
    "b = a.reshape(3, 2)\n",
    "b"
   ]
  },
  {
   "cell_type": "markdown",
   "id": "1c69b58f",
   "metadata": {},
   "source": [
    "### How to convert a 1D array into a 2D array (how to add a new axis to an array)\n",
    "This section covers `np.newaxis, np.expand_dims`\n",
    "\n",
    "You can use **np.newaxis** and **np.expand_dims** to increase the dimensions of your existing array.\n",
    "\n",
    "Using np.newaxis will increase the dimensions of your array by one dimension when used once. This means that a 1D array will become a 2D array, a 2D array will become a 3D array, and so on."
   ]
  },
  {
   "cell_type": "code",
   "execution_count": 58,
   "id": "a574279e",
   "metadata": {},
   "outputs": [
    {
     "name": "stdout",
     "output_type": "stream",
     "text": [
      "[0 1 2 3 4 5]\n",
      "[[0]\n",
      " [1]\n",
      " [2]\n",
      " [3]\n",
      " [4]\n",
      " [5]]\n",
      "(6, 1)\n"
     ]
    }
   ],
   "source": [
    "#You can use np.newaxis to add a new axis:\n",
    "p(a)\n",
    "a2 = a[:, np.newaxis]\n",
    "p(a2)\n",
    "p(a2.shape)\n"
   ]
  },
  {
   "cell_type": "code",
   "execution_count": 13,
   "id": "f72588f5",
   "metadata": {},
   "outputs": [
    {
     "name": "stdout",
     "output_type": "stream",
     "text": [
      "[1 2 3]\n",
      "(3,)\n",
      "[[1 2 3]]\n",
      "(1, 3)\n"
     ]
    }
   ],
   "source": [
    "# You can use np.expand_dims to add an axis at index position 1 with:\n",
    "b = np.expand_dims(a, axis=0)\n",
    "p(a)\n",
    "p(a.shape)\n",
    "p(b)\n",
    "p(b.shape)"
   ]
  },
  {
   "cell_type": "markdown",
   "id": "939c8116",
   "metadata": {},
   "source": [
    "### Indexing and slicing\n",
    "You can index and slice NumPy arrays in the same ways you can slice Python lists."
   ]
  },
  {
   "cell_type": "code",
   "execution_count": 64,
   "id": "fcb64b24",
   "metadata": {},
   "outputs": [
    {
     "name": "stdout",
     "output_type": "stream",
     "text": [
      "[0 1 2 3 4 5]\n",
      "[0 1]\n",
      "[0 1 2 3]\n",
      "[4 5]\n"
     ]
    }
   ],
   "source": [
    "p(a)\n",
    "p(a[:2])\n",
    "p(a[:-2])\n",
    "p(a[-2:])"
   ]
  },
  {
   "cell_type": "code",
   "execution_count": 67,
   "id": "1855d5dd",
   "metadata": {},
   "outputs": [
    {
     "name": "stdout",
     "output_type": "stream",
     "text": [
      "[0 1 2 3]\n",
      "[4 5]\n",
      "[0 1 2 3 4]\n"
     ]
    }
   ],
   "source": [
    "p(a[a<4])\n",
    "p(a[a>3])\n",
    "p(a[a<=4])"
   ]
  },
  {
   "cell_type": "code",
   "execution_count": 69,
   "id": "dbe18538",
   "metadata": {},
   "outputs": [
    {
     "name": "stdout",
     "output_type": "stream",
     "text": [
      "[3 4 5]\n"
     ]
    }
   ],
   "source": [
    "three_up = (a >= 3)\n",
    "p(a[three_up])"
   ]
  },
  {
   "cell_type": "code",
   "execution_count": 70,
   "id": "c945a99a",
   "metadata": {},
   "outputs": [
    {
     "name": "stdout",
     "output_type": "stream",
     "text": [
      "[0 2 4]\n"
     ]
    }
   ],
   "source": [
    "divisible_by_2 = a[a%2==0]\n",
    "p(a[divisible_by_2])"
   ]
  },
  {
   "cell_type": "code",
   "execution_count": 72,
   "id": "85100321",
   "metadata": {},
   "outputs": [
    {
     "name": "stdout",
     "output_type": "stream",
     "text": [
      "[ 3  4  5  6  7  8  9 10]\n"
     ]
    }
   ],
   "source": [
    "a = np.array([[1 , 2, 3, 4], [5, 6, 7, 8], [9, 10, 11, 12]])\n",
    "c = a[(a > 2) & (a < 11)]\n",
    "p(c)"
   ]
  },
  {
   "cell_type": "code",
   "execution_count": 73,
   "id": "1af3fe65",
   "metadata": {},
   "outputs": [
    {
     "name": "stdout",
     "output_type": "stream",
     "text": [
      "[[False False False False]\n",
      " [ True  True  True  True]\n",
      " [ True  True  True  True]]\n"
     ]
    }
   ],
   "source": [
    "five_up = (a > 5) | (a == 5)\n",
    "print(five_up)"
   ]
  },
  {
   "cell_type": "code",
   "execution_count": 74,
   "id": "66125048",
   "metadata": {},
   "outputs": [
    {
     "name": "stdout",
     "output_type": "stream",
     "text": [
      "[ 5  6  7  8  9 10 11 12]\n"
     ]
    }
   ],
   "source": [
    "p(a[five_up])"
   ]
  },
  {
   "cell_type": "code",
   "execution_count": 75,
   "id": "94fa55b1",
   "metadata": {},
   "outputs": [
    {
     "data": {
      "text/plain": [
       "(array([0, 0, 0, 0]), array([0, 1, 2, 3]))"
      ]
     },
     "execution_count": 75,
     "metadata": {},
     "output_type": "execute_result"
    }
   ],
   "source": [
    "# You can also use np.nonzero() to select elements or indices from an array.\n",
    "b = np.nonzero(a < 5)\n",
    "b\n",
    "#==> return the coordonate of the location of the filterd values row, col"
   ]
  },
  {
   "cell_type": "markdown",
   "id": "471cbcb7",
   "metadata": {},
   "source": [
    "In this example, a tuple of arrays was returned: one for each dimension. The first array represents the row indices where these values are found, and the second array represents the column indices where the values are found.\n",
    "\n",
    "If you want to generate a list of coordinates where the elements exist, you can zip the arrays, iterate over the list of coordinates, and print them. For example:"
   ]
  },
  {
   "cell_type": "code",
   "execution_count": 76,
   "id": "13a40816",
   "metadata": {},
   "outputs": [
    {
     "name": "stdout",
     "output_type": "stream",
     "text": [
      "(0, 0)\n",
      "(0, 1)\n",
      "(0, 2)\n",
      "(0, 3)\n"
     ]
    }
   ],
   "source": [
    "list_of_coordinates= list(zip(b[0], b[1]))\n",
    "\n",
    "for coord in list_of_coordinates:\n",
    "    print(coord)"
   ]
  },
  {
   "cell_type": "code",
   "execution_count": 77,
   "id": "afbec61b",
   "metadata": {},
   "outputs": [
    {
     "name": "stdout",
     "output_type": "stream",
     "text": [
      "[1 2 3 4]\n"
     ]
    }
   ],
   "source": [
    "# You can also use np.nonzero() to print the elements in an array that are less than 5 with:\n",
    "print(a[b])"
   ]
  },
  {
   "cell_type": "markdown",
   "id": "d604f2c5",
   "metadata": {},
   "source": [
    "### How to create an array from existing data\n",
    "This section covers slicing and indexing, `np.vstack(), np.hstack(), np.hsplit(), .view(), copy()`\n",
    "\n"
   ]
  },
  {
   "cell_type": "code",
   "execution_count": 81,
   "id": "35340288",
   "metadata": {},
   "outputs": [
    {
     "data": {
      "text/plain": [
       "array([4, 5, 6, 7, 8])"
      ]
     },
     "execution_count": 81,
     "metadata": {},
     "output_type": "execute_result"
    }
   ],
   "source": [
    "# You can create a new array from a section of your array any time by specifying where \n",
    "## you want to slice your array.\n",
    "a = np.array([1,  2,  3,  4,  5,  6,  7,  8,  9, 10])\n",
    "arr1 = a[3:8]\n",
    "arr1"
   ]
  },
  {
   "cell_type": "markdown",
   "id": "cc4dcc58",
   "metadata": {},
   "source": [
    "You can also stack two existing arrays, both vertically and horizontally. Let’s say you have two arrays, a1 and a2:"
   ]
  },
  {
   "cell_type": "code",
   "execution_count": 82,
   "id": "71fcb67c",
   "metadata": {},
   "outputs": [
    {
     "data": {
      "text/plain": [
       "array([[1, 1],\n",
       "       [2, 2],\n",
       "       [3, 3],\n",
       "       [4, 4]])"
      ]
     },
     "execution_count": 82,
     "metadata": {},
     "output_type": "execute_result"
    }
   ],
   "source": [
    "a1 = np.array([[1, 1],\n",
    "               [2, 2]])\n",
    "\n",
    "a2 = np.array([[3, 3],\n",
    "               [4, 4]])\n",
    "\n",
    "# You can stack them vertically with vstack:\n",
    "np.vstack((a1, a2))"
   ]
  },
  {
   "cell_type": "code",
   "execution_count": 83,
   "id": "84e63e8b",
   "metadata": {},
   "outputs": [
    {
     "data": {
      "text/plain": [
       "array([[1, 1, 3, 3],\n",
       "       [2, 2, 4, 4]])"
      ]
     },
     "execution_count": 83,
     "metadata": {},
     "output_type": "execute_result"
    }
   ],
   "source": [
    "# Or stack them horizontally with hstack:\n",
    "np.hstack((a1, a2))"
   ]
  },
  {
   "cell_type": "markdown",
   "id": "7854f395",
   "metadata": {},
   "source": [
    "You can split an array into several smaller arrays using `hsplit`. You can specify either the number of equally shaped arrays to return or the columns after which the division should occur.\n",
    "\n",
    "Let’s say you have this array:"
   ]
  },
  {
   "cell_type": "code",
   "execution_count": 84,
   "id": "c2c015da",
   "metadata": {},
   "outputs": [
    {
     "data": {
      "text/plain": [
       "array([[ 1,  2,  3,  4,  5,  6,  7,  8,  9, 10, 11, 12],\n",
       "       [13, 14, 15, 16, 17, 18, 19, 20, 21, 22, 23, 24]])"
      ]
     },
     "execution_count": 84,
     "metadata": {},
     "output_type": "execute_result"
    }
   ],
   "source": [
    "x = np.arange(1, 25).reshape(2, 12)\n",
    "x"
   ]
  },
  {
   "cell_type": "code",
   "execution_count": 85,
   "id": "24745a18",
   "metadata": {},
   "outputs": [
    {
     "data": {
      "text/plain": [
       "[array([[ 1,  2,  3,  4],\n",
       "        [13, 14, 15, 16]]),\n",
       " array([[ 5,  6,  7,  8],\n",
       "        [17, 18, 19, 20]]),\n",
       " array([[ 9, 10, 11, 12],\n",
       "        [21, 22, 23, 24]])]"
      ]
     },
     "execution_count": 85,
     "metadata": {},
     "output_type": "execute_result"
    }
   ],
   "source": [
    "#If you wanted to split this array into three equally shaped arrays, you would run:\n",
    "np.hsplit(x, 3)\n"
   ]
  },
  {
   "cell_type": "code",
   "execution_count": 86,
   "id": "a1cb3f7e",
   "metadata": {},
   "outputs": [
    {
     "data": {
      "text/plain": [
       "[array([[ 1,  2,  3],\n",
       "        [13, 14, 15]]),\n",
       " array([[ 4],\n",
       "        [16]]),\n",
       " array([[ 5,  6,  7,  8,  9, 10, 11, 12],\n",
       "        [17, 18, 19, 20, 21, 22, 23, 24]])]"
      ]
     },
     "execution_count": 86,
     "metadata": {},
     "output_type": "execute_result"
    }
   ],
   "source": [
    "#If you wanted to split your array after the third and fourth column, you’d run:\n",
    "np.hsplit(x, (3, 4))"
   ]
  },
  {
   "cell_type": "markdown",
   "id": "7d55de70",
   "metadata": {},
   "source": [
    "You can use the `view` method to create a new array object that looks at the same data as the original array (a shallow copy).\n",
    "\n",
    "Views are an important NumPy concept! NumPy functions, as well as operations like indexing and slicing, will return views whenever possible. This saves memory and is faster (no copy of the data has to be made). However it’s important to be aware of this - modifying data in a view also modifies the original array!\n",
    "\n",
    "Let’s say you create this array:\n"
   ]
  },
  {
   "cell_type": "code",
   "execution_count": 87,
   "id": "d2c26a96",
   "metadata": {},
   "outputs": [
    {
     "name": "stdout",
     "output_type": "stream",
     "text": [
      "[[ 1  2  3  4]\n",
      " [ 5  6  7  8]\n",
      " [ 9 10 11 12]]\n"
     ]
    }
   ],
   "source": [
    "a = np.array([[1, 2, 3, 4], [5, 6, 7, 8], [9, 10, 11, 12]])\n",
    "p(a)"
   ]
  },
  {
   "cell_type": "markdown",
   "id": "c7a8fb28",
   "metadata": {},
   "source": [
    "Now we create an array b1 by slicing a and modify the first element of b1. This will modify the corresponding element in a as well!"
   ]
  },
  {
   "cell_type": "code",
   "execution_count": 91,
   "id": "5f26d974",
   "metadata": {},
   "outputs": [
    {
     "name": "stdout",
     "output_type": "stream",
     "text": [
      "[99  2  3  4]\n",
      "[[99  2  3  4]\n",
      " [ 5  6  7  8]\n",
      " [ 9 10 11 12]]\n"
     ]
    }
   ],
   "source": [
    "b1 = a[0, :]\n",
    "p(b1)\n",
    "b1[0]=99\n",
    "#p(b1)\n",
    "p(a)"
   ]
  },
  {
   "cell_type": "markdown",
   "id": "edd47727",
   "metadata": {},
   "source": [
    "Using the `copy` method will make a complete copy of the array and its data (a deep copy). To use this on your array, you could run:"
   ]
  },
  {
   "cell_type": "code",
   "execution_count": 92,
   "id": "0a375f07",
   "metadata": {},
   "outputs": [
    {
     "data": {
      "text/plain": [
       "array([[99,  2,  3,  4],\n",
       "       [ 5,  6,  7,  8],\n",
       "       [ 9, 10, 11, 12]])"
      ]
     },
     "execution_count": 92,
     "metadata": {},
     "output_type": "execute_result"
    }
   ],
   "source": [
    "b2 = a.copy()\n",
    "b2"
   ]
  },
  {
   "cell_type": "markdown",
   "id": "df6c7465",
   "metadata": {},
   "source": [
    "### Basic array operations"
   ]
  },
  {
   "cell_type": "code",
   "execution_count": 94,
   "id": "ae8ee1ac",
   "metadata": {},
   "outputs": [
    {
     "name": "stdout",
     "output_type": "stream",
     "text": [
      "[2 3]\n"
     ]
    },
    {
     "data": {
      "text/plain": [
       "array([0, 1])"
      ]
     },
     "execution_count": 94,
     "metadata": {},
     "output_type": "execute_result"
    }
   ],
   "source": [
    "# You can add the arrays together with the plus sign.\n",
    "data = np.array([1, 2])\n",
    "ones = np.ones(2, dtype=int)\n",
    "aa= data + ones\n",
    "p(aa)\n",
    "data - ones"
   ]
  },
  {
   "cell_type": "code",
   "execution_count": 95,
   "id": "cd06407c",
   "metadata": {},
   "outputs": [
    {
     "name": "stdout",
     "output_type": "stream",
     "text": [
      "176\n"
     ]
    }
   ],
   "source": [
    "p(a.sum())"
   ]
  },
  {
   "cell_type": "code",
   "execution_count": 99,
   "id": "a55998c2",
   "metadata": {},
   "outputs": [
    {
     "name": "stdout",
     "output_type": "stream",
     "text": [
      "(3, 4)\n",
      "[113  18  21  24]\n"
     ]
    }
   ],
   "source": [
    "p(a.shape)\n",
    "p(a.sum(axis=0)) # sum over rows"
   ]
  },
  {
   "cell_type": "code",
   "execution_count": 100,
   "id": "a4259b1b",
   "metadata": {},
   "outputs": [
    {
     "name": "stdout",
     "output_type": "stream",
     "text": [
      "[108  26  42]\n"
     ]
    }
   ],
   "source": [
    "p(a.sum(axis=1)) # sum over columns"
   ]
  },
  {
   "cell_type": "markdown",
   "id": "8e8b0b50",
   "metadata": {},
   "source": [
    "### Broadcasting\n",
    "There are times when you might want to carry out an operation between an array and a single number (also called an operation between a vector and a scalar) or between arrays of two different sizes. For example, your array (we’ll call it “data”) might contain information about distance in miles but you want to convert the information to kilometers. You can perform this operation with:"
   ]
  },
  {
   "cell_type": "code",
   "execution_count": 101,
   "id": "df6ed6e3",
   "metadata": {},
   "outputs": [
    {
     "data": {
      "text/plain": [
       "array([1.6, 3.2])"
      ]
     },
     "execution_count": 101,
     "metadata": {},
     "output_type": "execute_result"
    }
   ],
   "source": [
    "data = np.array([1.0, 2.0])\n",
    "data * 1.6"
   ]
  },
  {
   "cell_type": "markdown",
   "id": "299e9dc1",
   "metadata": {},
   "source": [
    "NumPy understands that the multiplication should happen with each cell. That concept is called broadcasting. Broadcasting is a mechanism that allows NumPy to perform operations on arrays of different shapes. The dimensions of your array must be compatible, for example, when the dimensions of both arrays are equal or when one of them is 1. If the dimensions are not compatible, you will get a ValueError."
   ]
  },
  {
   "cell_type": "markdown",
   "id": "6beaa0da",
   "metadata": {},
   "source": [
    "### How to reverse an array\n",
    "This section covers `np.flip()`\n",
    "\n",
    "NumPy’s np.flip() function allows you to flip, or reverse, the contents of an array along an axis. When using np.flip(), specify the array you would like to reverse and the axis. If you don’t specify the axis, NumPy will reverse the contents along all of the axes of your input array."
   ]
  },
  {
   "cell_type": "code",
   "execution_count": 102,
   "id": "4b564079",
   "metadata": {},
   "outputs": [
    {
     "name": "stdout",
     "output_type": "stream",
     "text": [
      "[8 7 6 5 4 3 2 1]\n"
     ]
    }
   ],
   "source": [
    "arr = np.array([1, 2, 3, 4, 5, 6, 7, 8])\n",
    "reversed_arr = np.flip(arr)\n",
    "p(reversed_arr)"
   ]
  },
  {
   "cell_type": "code",
   "execution_count": 105,
   "id": "4772e29c",
   "metadata": {},
   "outputs": [
    {
     "name": "stdout",
     "output_type": "stream",
     "text": [
      "[[ 1  2  3  4]\n",
      " [ 5  6  7  8]\n",
      " [ 9 10 11 12]]\n",
      "[[12 11 10  9]\n",
      " [ 8  7  6  5]\n",
      " [ 4  3  2  1]]\n"
     ]
    }
   ],
   "source": [
    "# If you start with this array:\n",
    "\n",
    "arr_2d = np.array([[1, 2, 3, 4], [5, 6, 7, 8], [9, 10, 11, 12]])\n",
    "p(arr_2d)\n",
    "reversed_arr = np.flip(arr_2d)\n",
    "p(reversed_arr)"
   ]
  },
  {
   "cell_type": "code",
   "execution_count": 106,
   "id": "33726dd7",
   "metadata": {},
   "outputs": [
    {
     "name": "stdout",
     "output_type": "stream",
     "text": [
      "[[ 9 10 11 12]\n",
      " [ 5  6  7  8]\n",
      " [ 1  2  3  4]]\n"
     ]
    }
   ],
   "source": [
    "#You can easily reverse only the rows with:\n",
    "\n",
    "reversed_arr_rows = np.flip(arr_2d, axis=0)\n",
    "print(reversed_arr_rows)"
   ]
  },
  {
   "cell_type": "code",
   "execution_count": 107,
   "id": "e895c3d4",
   "metadata": {},
   "outputs": [
    {
     "name": "stdout",
     "output_type": "stream",
     "text": [
      "[[ 4  3  2  1]\n",
      " [ 8  7  6  5]\n",
      " [12 11 10  9]]\n"
     ]
    }
   ],
   "source": [
    "#Or reverse only the columns with:\n",
    "\n",
    "reversed_arr_columns = np.flip(arr_2d, axis=1)\n",
    "print(reversed_arr_columns)"
   ]
  },
  {
   "cell_type": "code",
   "execution_count": 108,
   "id": "f0eebe7e",
   "metadata": {},
   "outputs": [
    {
     "name": "stdout",
     "output_type": "stream",
     "text": [
      "[[ 1  2  3  4]\n",
      " [ 8  7  6  5]\n",
      " [ 9 10 11 12]]\n"
     ]
    }
   ],
   "source": [
    "# You can also reverse the contents of only one column or row. For example, \n",
    "# you can reverse the contents of the row at index position 1 (the second row):\n",
    "\n",
    "arr_2d[1] = np.flip(arr_2d[1])\n",
    "print(arr_2d)"
   ]
  },
  {
   "cell_type": "code",
   "execution_count": 109,
   "id": "6d9aa2b7",
   "metadata": {},
   "outputs": [
    {
     "name": "stdout",
     "output_type": "stream",
     "text": [
      "[[ 1 10  3  4]\n",
      " [ 8  7  6  5]\n",
      " [ 9  2 11 12]]\n"
     ]
    }
   ],
   "source": [
    "# You can also reverse the column at index position 1 (the second column):\n",
    "arr_2d[:,1] = np.flip(arr_2d[:,1])\n",
    "print(arr_2d)"
   ]
  },
  {
   "cell_type": "markdown",
   "id": "22792454",
   "metadata": {},
   "source": [
    "### Reshaping and flattening multidimensional arrays\n",
    "This section covers `.flatten(), ravel()`\n",
    "\n",
    "There are two popular ways to flatten an array: .flatten() and .ravel(). The primary difference between the two is that the new array created using ravel() is actually a reference to the parent array (i.e., a “view”). This means that any changes to the new array will affect the parent array as well. Since ravel does not create a copy, it’s memory efficient.\n"
   ]
  },
  {
   "cell_type": "code",
   "execution_count": 14,
   "id": "40392979",
   "metadata": {},
   "outputs": [
    {
     "name": "stdout",
     "output_type": "stream",
     "text": [
      "[[ 1  2  3  4]\n",
      " [ 5  6  7  8]\n",
      " [ 9 10 11 12]]\n"
     ]
    },
    {
     "data": {
      "text/plain": [
       "array([ 1,  2,  3,  4,  5,  6,  7,  8,  9, 10, 11, 12])"
      ]
     },
     "execution_count": 14,
     "metadata": {},
     "output_type": "execute_result"
    }
   ],
   "source": [
    "x = np.array([[1 , 2, 3, 4], [5, 6, 7, 8], [9, 10, 11, 12]])\n",
    "p(x)\n",
    "#You can use flatten to flatten your array into a 1D array.\n",
    "\n",
    "x.flatten()"
   ]
  },
  {
   "cell_type": "markdown",
   "id": "223e15db",
   "metadata": {},
   "source": [
    "When you use `flatten`, changes to your new array won’t change the parent array.\n",
    "\n",
    "But when you use `ravel`, the changes you make to the new array will affect the parent array."
   ]
  },
  {
   "cell_type": "code",
   "execution_count": 15,
   "id": "3143431d",
   "metadata": {},
   "outputs": [
    {
     "name": "stdout",
     "output_type": "stream",
     "text": [
      "[[98  2  3  4]\n",
      " [ 5  6  7  8]\n",
      " [ 9 10 11 12]]\n"
     ]
    }
   ],
   "source": [
    "a2 = x.ravel()\n",
    "a2[0] = 98\n",
    "p(x)"
   ]
  },
  {
   "cell_type": "code",
   "execution_count": 114,
   "id": "2a6a7b11",
   "metadata": {},
   "outputs": [
    {
     "name": "stdout",
     "output_type": "stream",
     "text": [
      "[98  2  3  4  5  6  7  8  9 10 11 12]\n"
     ]
    }
   ],
   "source": [
    "p(a2)"
   ]
  },
  {
   "cell_type": "markdown",
   "id": "5dc6f087",
   "metadata": {},
   "source": [
    "### How to save and load NumPy objects\n",
    "This section covers `np.save, np.savez, np.savetxt, np.load, np.loadtxt`\n",
    "\n",
    "You will, at some point, want to save your arrays to disk and load them back without having to re-run the code. Fortunately, there are several ways to save and load objects with NumPy. The ndarray objects can be saved to and loaded from the disk files with `loadtxt` and `savetxt` functions that handle normal text files, `load` and `save` functions that handle NumPy binary files with a `.npy` file extension, and a `savez` function that handles NumPy files with a `.npz` file extension.\n",
    "\n",
    "The .`npy and .npz` files store data, shape, dtype, and other information required to reconstruct the ndarray in a way that allows the array to be correctly retrieved, even when the file is on another machine with different architecture.\n",
    "\n",
    "If you want to store a single ndarray object, store it as a `.npy` file using `np.save`. If you want to store more than one ndarray object in a single file, save it as a `.npz` file using `np.savez`. You can also save several arrays into a single file in compressed `npz` format with savez_compressed.\n",
    "\n",
    "It’s easy to save and load and array with np.save(). Just make sure to specify the array you want to save and a file name. For example, if you create this array:"
   ]
  },
  {
   "cell_type": "code",
   "execution_count": 115,
   "id": "aa3afd54",
   "metadata": {},
   "outputs": [],
   "source": [
    "a = np.array([1, 2, 3, 4, 5, 6])\n",
    "#You can save it as “filename.npy” with:\n",
    "np.save('filename', a)"
   ]
  },
  {
   "cell_type": "code",
   "execution_count": 116,
   "id": "6b2d7d20",
   "metadata": {},
   "outputs": [
    {
     "name": "stdout",
     "output_type": "stream",
     "text": [
      "filename.npy\r\n"
     ]
    }
   ],
   "source": [
    "!ls filename.npy"
   ]
  },
  {
   "cell_type": "code",
   "execution_count": 117,
   "id": "38b706d8",
   "metadata": {},
   "outputs": [
    {
     "name": "stdout",
     "output_type": "stream",
     "text": [
      "[1 2 3 4 5 6]\n"
     ]
    }
   ],
   "source": [
    "#You can use np.load() to reconstruct your array.\n",
    "b = np.load('filename.npy')\n",
    "p(b)"
   ]
  },
  {
   "cell_type": "code",
   "execution_count": 118,
   "id": "921f038d",
   "metadata": {},
   "outputs": [],
   "source": [
    "# You can save a NumPy array as a plain text file like a .csv or .txt file with np.savetxt.\n",
    "csv_arr = np.array([1, 2, 3, 4, 5, 6, 7, 8])\n",
    "\n",
    "#You can easily save it as a .csv file with the name “new_file.csv” like this:\n",
    "np.savetxt('new_file.csv', csv_arr)"
   ]
  },
  {
   "cell_type": "code",
   "execution_count": 119,
   "id": "0225a404",
   "metadata": {},
   "outputs": [
    {
     "name": "stdout",
     "output_type": "stream",
     "text": [
      "new_file.csv\r\n"
     ]
    }
   ],
   "source": [
    "!ls new_file.csv"
   ]
  },
  {
   "cell_type": "code",
   "execution_count": 120,
   "id": "3b828715",
   "metadata": {},
   "outputs": [
    {
     "name": "stdout",
     "output_type": "stream",
     "text": [
      "[1. 2. 3. 4. 5. 6. 7. 8.]\n"
     ]
    }
   ],
   "source": [
    "# You can quickly and easily load your saved text file using loadtxt():\n",
    "b= np.loadtxt('new_file.csv')\n",
    "p(b)\n"
   ]
  },
  {
   "cell_type": "markdown",
   "id": "f148fb7b",
   "metadata": {},
   "source": [
    "The `savetxt() and loadtxt()` functions accept additional optional parameters such as header, footer, and delimiter. While text files can be easier for sharing, .npy and .npz files are smaller and faster to read. If you need more sophisticated handling of your text file (for example, if you need to work with lines that contain missing values), you will want to use the genfromtxt function.\n",
    "\n",
    "With savetxt, you can specify headers, footers, comments, and more."
   ]
  },
  {
   "cell_type": "code",
   "execution_count": null,
   "id": "ad52f78d",
   "metadata": {},
   "outputs": [],
   "source": []
  }
 ],
 "metadata": {
  "kernelspec": {
   "display_name": "Python 3 (ipykernel)",
   "language": "python",
   "name": "python3"
  },
  "language_info": {
   "codemirror_mode": {
    "name": "ipython",
    "version": 3
   },
   "file_extension": ".py",
   "mimetype": "text/x-python",
   "name": "python",
   "nbconvert_exporter": "python",
   "pygments_lexer": "ipython3",
   "version": "3.8.8"
  }
 },
 "nbformat": 4,
 "nbformat_minor": 5
}
